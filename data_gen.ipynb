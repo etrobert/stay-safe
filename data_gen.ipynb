{
 "cells": [
  {
   "cell_type": "code",
   "execution_count": 21,
   "metadata": {
    "collapsed": true
   },
   "outputs": [],
   "source": [
    "import numpy as np\n",
    "import random\n",
    "import time"
   ]
  },
  {
   "cell_type": "code",
   "execution_count": 27,
   "outputs": [],
   "source": [
    "def generate_data(points: int = 100000) -> dict:\n",
    "    features = []\n",
    "    for i in range(points):\n",
    "        features.append(generate_feature())\n",
    "\n",
    "    data = {'type': 'FeatureCollection', 'crs': {\n",
    "        'type': 'name',\n",
    "        'properties': {\n",
    "            'name': 'urn:ogc:def:crs:OGC:1.3:CRS84'\n",
    "        }\n",
    "    }, 'features': features }\n",
    "\n",
    "    return data\n",
    "\n",
    "def generate_feature():\n",
    "    mu = [13.3731, 52.5095]  # longitude and latitude of Potsdamer Platz\n",
    "    cov = [[0.01, 0], [0, 0.01]]  # covariance matrix\n",
    "    coordinates = np.random.multivariate_normal(mu, cov, 1)[0]\n",
    "\n",
    "    feature = {\n",
    "            'type': 'Feature',\n",
    "            'properties': {\n",
    "                'id': 'ak16994521',\n",
    "                'mag': round(random.uniform(-1, 1), 2),\n",
    "                'time': int(time.time() * 1000),\n",
    "                'felt': random.choice([None, True, False]),\n",
    "                'tsunami': 0\n",
    "            },\n",
    "            'geometry': {\n",
    "                'type': 'Point',\n",
    "                # pick random coordinates around berlin\n",
    "                'coordinates': [\n",
    "                    round(coordinates[0], 6),  # longitude\n",
    "                    round(coordinates[1], 6)  # latitude\n",
    "                ]\n",
    "            }\n",
    "        }\n",
    "    return feature\n",
    "\n",
    "def generate_features_dense(amnt: int) -> list:\n",
    "    # Set Potsdamer Platz as the center of the normal distribution\n",
    "    center_lon, center_lat = 13.3736, 52.5097\n",
    "\n",
    "    # Generate 10 random coordinates from normal distribution centered at Potsdamer Platz\n",
    "    lons, lats = np.random.normal(loc=[center_lon, center_lat], scale=[0.03, 0.02], size=(10, 2)).T.tolist()\n",
    "\n",
    "    features = []\n",
    "    for i in range(amnt):\n",
    "        feature = {\n",
    "            'type': 'Feature',\n",
    "            'properties': {\n",
    "                'id': f'ak16994521_{i}',\n",
    "                'mag': round(random.uniform(-1, 1), 2),\n",
    "                'time': int(time.time() * 1000),\n",
    "                'felt': random.choice([None, True, False]),\n",
    "                'tsunami': 0\n",
    "            },\n",
    "            'geometry': {\n",
    "                'type': 'Point',\n",
    "                'coordinates': [round(lons[i], 6), round(lats[i], 6)]\n",
    "            }\n",
    "        }\n",
    "        features.append(feature)\n",
    "        return features"
   ],
   "metadata": {
    "collapsed": false
   }
  },
  {
   "cell_type": "code",
   "execution_count": 25,
   "outputs": [],
   "source": [
    "heat_data = generate_data()"
   ],
   "metadata": {
    "collapsed": false
   }
  },
  {
   "cell_type": "code",
   "execution_count": 26,
   "outputs": [],
   "source": [
    "# export data to json file\n",
    "import json\n",
    "with open('data_normaldist_dense.json', 'w') as outfile:\n",
    "    json.dump(heat_data, outfile)"
   ],
   "metadata": {
    "collapsed": false
   }
  }
 ],
 "metadata": {
  "kernelspec": {
   "display_name": "Python 3",
   "language": "python",
   "name": "python3"
  },
  "language_info": {
   "codemirror_mode": {
    "name": "ipython",
    "version": 2
   },
   "file_extension": ".py",
   "mimetype": "text/x-python",
   "name": "python",
   "nbconvert_exporter": "python",
   "pygments_lexer": "ipython2",
   "version": "2.7.6"
  }
 },
 "nbformat": 4,
 "nbformat_minor": 0
}
